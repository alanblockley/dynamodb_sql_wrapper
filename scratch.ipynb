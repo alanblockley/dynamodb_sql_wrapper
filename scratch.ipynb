{
 "cells": [
  {
   "cell_type": "code",
   "execution_count": 1,
   "metadata": {},
   "outputs": [],
   "source": [
    "import boto3"
   ]
  },
  {
   "cell_type": "code",
   "execution_count": 2,
   "metadata": {},
   "outputs": [],
   "source": [
    "BUCKET = 'dbla-compendium-artifact-bucket'\n",
    "\n",
    "ddb = boto3.client('dynamodb')\n",
    "local_ddb = boto3.client('dynamodb', endpoint_url='http://localhost:8000')"
   ]
  },
  {
   "cell_type": "code",
   "execution_count": 3,
   "metadata": {},
   "outputs": [
    {
     "name": "stdout",
     "output_type": "stream",
     "text": [
      "['compendium_cards', 'compendium_crystals', 'compendium_directions', 'compendium_foes', 'compendium_mbox', 'compendium_methods', 'compendium_notecards', 'compendium_questmaster', 'compendium_quests', 'compendium_queststeps', 'compendium_questwords', 'compendium_transactions', 'compendium_users']\n"
     ]
    }
   ],
   "source": [
    "tables = ddb.list_tables()['TableNames']\n",
    "print(tables)\n"
   ]
  },
  {
   "cell_type": "code",
   "execution_count": 8,
   "metadata": {},
   "outputs": [],
   "source": [
    "for table in tables:\n",
    "    try:\n",
    "        response = ddb.update_table(\n",
    "            TableName=table,\n",
    "            BillingMode='PAY_PER_REQUEST'\n",
    "        )\n",
    "    except Exception as e:\n",
    "        print(f\"Error updating table {table}: {e}\")\n"
   ]
  },
  {
   "cell_type": "code",
   "execution_count": null,
   "metadata": {},
   "outputs": [],
   "source": [
    "for table in tables:\n",
    "\n",
    "    try:\n",
    "        response = ddb.update_continuous_backups(\n",
    "            TableName=table,\n",
    "            PointInTimeRecoverySpecification={\n",
    "                'PointInTimeRecoveryEnabled': True\n",
    "            }\n",
    "        )\n",
    "        print(\"PITR enabled successfully for the table.\")\n",
    "        print(response)\n",
    "    except Exception as e:\n",
    "        print(f\"Error enabling PITR: {str(e)}\")"
   ]
  },
  {
   "cell_type": "code",
   "execution_count": null,
   "metadata": {},
   "outputs": [],
   "source": [
    "\n",
    "for table in tables:\n",
    "    response = ddb.export_table_to_point_in_time(\n",
    "        TableArn=f'arn:aws:dynamodb:{boto3.Session().region_name}:{boto3.client(\"sts\").get_caller_identity()[\"Account\"]}:table/{table}',\n",
    "        S3Bucket=BUCKET,\n",
    "        S3Prefix=f'ddb_tables/{table}/',\n",
    "        ExportFormat='DYNAMODB_JSON'\n",
    "    )\n",
    "    print(f\"Export started for table {table}. Export ARN: {response['ExportDescription']['ExportArn']}\")"
   ]
  },
  {
   "cell_type": "code",
   "execution_count": null,
   "metadata": {},
   "outputs": [],
   "source": [
    "# for each table, restore it from S3\n",
    "for table in tables:\n",
    "    table_attributes = ddb.describe_table(TableName=table)['Table']['AttributeDefinitions']\n",
    "    key_schema = ddb.describe_table(TableName=table)['Table']['KeySchema']\n",
    "    print(table_attributes) \n",
    "    print(key_schema)\n",
    "    response = local_ddb.import_table(\n",
    "        S3BucketSource={\n",
    "            'S3Bucket': BUCKET,\n",
    "            'S3KeyPrefix': f'ddb_tables/'\n",
    "        },\n",
    "        InputFormat='DYNAMODB_JSON',\n",
    "        TableCreationParameters={\n",
    "            'TableName': table,\n",
    "            'BillingMode': 'PAY_PER_REQUEST',\n",
    "            'AttributeDefinitions': table_attributes,\n",
    "            'KeySchema': key_schema\n",
    "        },\n",
    "    )\n",
    "    print(f\"Restored table {table} from S3.\")\n",
    "    print(response)"
   ]
  },
  {
   "cell_type": "code",
   "execution_count": 19,
   "metadata": {},
   "outputs": [
    {
     "name": "stdout",
     "output_type": "stream",
     "text": [
      "{'card_death': {'N': '1'}}\n"
     ]
    }
   ],
   "source": [
    "res = ddb.scan(\n",
    "    TableName='compendium_cards',\n",
    "    FilterExpression='card_shortname = :name',\n",
    "    ExpressionAttributeValues={\n",
    "        ':name': {'S': 'death'}\n",
    "    },\n",
    "    ProjectionExpression='card_death'\n",
    ")\n",
    "\n",
    "for item in res['Items']:\n",
    "    print(item)\n"
   ]
  },
  {
   "cell_type": "code",
   "execution_count": null,
   "metadata": {},
   "outputs": [],
   "source": []
  }
 ],
 "metadata": {
  "kernelspec": {
   "display_name": "Python 3",
   "language": "python",
   "name": "python3"
  },
  "language_info": {
   "codemirror_mode": {
    "name": "ipython",
    "version": 3
   },
   "file_extension": ".py",
   "mimetype": "text/x-python",
   "name": "python",
   "nbconvert_exporter": "python",
   "pygments_lexer": "ipython3",
   "version": "3.11.6"
  }
 },
 "nbformat": 4,
 "nbformat_minor": 2
}
